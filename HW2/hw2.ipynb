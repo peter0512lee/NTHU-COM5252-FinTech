{
 "cells": [
  {
   "cell_type": "code",
   "execution_count": 1,
   "metadata": {},
   "outputs": [],
   "source": [
    "import FinMind\n",
    "import pandas as pd \n",
    "import numpy as np\n",
    "import talib\n",
    "import math\n",
    "import matplotlib.pyplot as plt\n",
    "import matplotlib\n",
    "\n",
    "from FinMind.data import DataLoader\n",
    "from sklearn.decomposition import PCA\n",
    "\n",
    "from IPython.core.interactiveshell import InteractiveShell\n",
    "InteractiveShell.ast_node_interactivity = \"all\"\n"
   ]
  },
  {
   "cell_type": "markdown",
   "metadata": {},
   "source": [
    "# Problem 1"
   ]
  },
  {
   "cell_type": "code",
   "execution_count": 2,
   "metadata": {},
   "outputs": [
    {
     "data": {
      "text/html": [
       "<div>\n",
       "<style scoped>\n",
       "    .dataframe tbody tr th:only-of-type {\n",
       "        vertical-align: middle;\n",
       "    }\n",
       "\n",
       "    .dataframe tbody tr th {\n",
       "        vertical-align: top;\n",
       "    }\n",
       "\n",
       "    .dataframe thead th {\n",
       "        text-align: right;\n",
       "    }\n",
       "</style>\n",
       "<table border=\"1\" class=\"dataframe\">\n",
       "  <thead>\n",
       "    <tr style=\"text-align: right;\">\n",
       "      <th></th>\n",
       "      <th>date</th>\n",
       "      <th>volume</th>\n",
       "      <th>open</th>\n",
       "      <th>high</th>\n",
       "      <th>low</th>\n",
       "      <th>close</th>\n",
       "    </tr>\n",
       "  </thead>\n",
       "  <tbody>\n",
       "    <tr>\n",
       "      <th>0</th>\n",
       "      <td>2012-12-03</td>\n",
       "      <td>3696524900</td>\n",
       "      <td>7582.65</td>\n",
       "      <td>7628.29</td>\n",
       "      <td>7562.19</td>\n",
       "      <td>7599.91</td>\n",
       "    </tr>\n",
       "    <tr>\n",
       "      <th>1</th>\n",
       "      <td>2012-12-04</td>\n",
       "      <td>3947860691</td>\n",
       "      <td>7572.11</td>\n",
       "      <td>7600.98</td>\n",
       "      <td>7536.66</td>\n",
       "      <td>7600.98</td>\n",
       "    </tr>\n",
       "    <tr>\n",
       "      <th>2</th>\n",
       "      <td>2012-12-05</td>\n",
       "      <td>4858910844</td>\n",
       "      <td>7575.63</td>\n",
       "      <td>7650.12</td>\n",
       "      <td>7567.46</td>\n",
       "      <td>7649.05</td>\n",
       "    </tr>\n",
       "    <tr>\n",
       "      <th>3</th>\n",
       "      <td>2012-12-06</td>\n",
       "      <td>4399887242</td>\n",
       "      <td>7660.97</td>\n",
       "      <td>7673.62</td>\n",
       "      <td>7616.79</td>\n",
       "      <td>7623.26</td>\n",
       "    </tr>\n",
       "    <tr>\n",
       "      <th>4</th>\n",
       "      <td>2012-12-07</td>\n",
       "      <td>3888752378</td>\n",
       "      <td>7640.25</td>\n",
       "      <td>7672.92</td>\n",
       "      <td>7631.63</td>\n",
       "      <td>7642.26</td>\n",
       "    </tr>\n",
       "    <tr>\n",
       "      <th>...</th>\n",
       "      <td>...</td>\n",
       "      <td>...</td>\n",
       "      <td>...</td>\n",
       "      <td>...</td>\n",
       "      <td>...</td>\n",
       "      <td>...</td>\n",
       "    </tr>\n",
       "    <tr>\n",
       "      <th>1470</th>\n",
       "      <td>2018-11-26</td>\n",
       "      <td>3938988241</td>\n",
       "      <td>9679.98</td>\n",
       "      <td>9847.35</td>\n",
       "      <td>9679.98</td>\n",
       "      <td>9765.36</td>\n",
       "    </tr>\n",
       "    <tr>\n",
       "      <th>1471</th>\n",
       "      <td>2018-11-27</td>\n",
       "      <td>4333008909</td>\n",
       "      <td>9728.95</td>\n",
       "      <td>9781.40</td>\n",
       "      <td>9688.74</td>\n",
       "      <td>9778.62</td>\n",
       "    </tr>\n",
       "    <tr>\n",
       "      <th>1472</th>\n",
       "      <td>2018-11-28</td>\n",
       "      <td>5413428690</td>\n",
       "      <td>9774.03</td>\n",
       "      <td>9890.89</td>\n",
       "      <td>9767.14</td>\n",
       "      <td>9884.31</td>\n",
       "    </tr>\n",
       "    <tr>\n",
       "      <th>1473</th>\n",
       "      <td>2018-11-29</td>\n",
       "      <td>5863859324</td>\n",
       "      <td>9959.87</td>\n",
       "      <td>10001.85</td>\n",
       "      <td>9885.36</td>\n",
       "      <td>9885.36</td>\n",
       "    </tr>\n",
       "    <tr>\n",
       "      <th>1474</th>\n",
       "      <td>2018-11-30</td>\n",
       "      <td>6607048362</td>\n",
       "      <td>9899.24</td>\n",
       "      <td>9957.63</td>\n",
       "      <td>9888.03</td>\n",
       "      <td>9888.03</td>\n",
       "    </tr>\n",
       "  </tbody>\n",
       "</table>\n",
       "<p>1475 rows × 6 columns</p>\n",
       "</div>"
      ],
      "text/plain": [
       "            date      volume     open      high      low    close\n",
       "0     2012-12-03  3696524900  7582.65   7628.29  7562.19  7599.91\n",
       "1     2012-12-04  3947860691  7572.11   7600.98  7536.66  7600.98\n",
       "2     2012-12-05  4858910844  7575.63   7650.12  7567.46  7649.05\n",
       "3     2012-12-06  4399887242  7660.97   7673.62  7616.79  7623.26\n",
       "4     2012-12-07  3888752378  7640.25   7672.92  7631.63  7642.26\n",
       "...          ...         ...      ...       ...      ...      ...\n",
       "1470  2018-11-26  3938988241  9679.98   9847.35  9679.98  9765.36\n",
       "1471  2018-11-27  4333008909  9728.95   9781.40  9688.74  9778.62\n",
       "1472  2018-11-28  5413428690  9774.03   9890.89  9767.14  9884.31\n",
       "1473  2018-11-29  5863859324  9959.87  10001.85  9885.36  9885.36\n",
       "1474  2018-11-30  6607048362  9899.24   9957.63  9888.03  9888.03\n",
       "\n",
       "[1475 rows x 6 columns]"
      ]
     },
     "execution_count": 2,
     "metadata": {},
     "output_type": "execute_result"
    }
   ],
   "source": [
    "api = DataLoader()\n",
    "df = api.taiwan_stock_daily(\n",
    "    stock_id='TAIEX',\n",
    "    start_date='2012-12-01',\n",
    "    end_date='2018-12-02'\n",
    ")\n",
    "df.drop(columns=['stock_id', 'Trading_money', 'spread', 'Trading_turnover'],inplace=True)\n",
    "df.rename(columns={'Trading_Volume':'volume', 'max':'high', 'min':'low'},inplace=True)\n",
    "df"
   ]
  },
  {
   "cell_type": "code",
   "execution_count": 3,
   "metadata": {},
   "outputs": [],
   "source": [
    "df.to_csv('output/problem1.csv')"
   ]
  },
  {
   "cell_type": "markdown",
   "metadata": {},
   "source": [
    "# Problem 2"
   ]
  },
  {
   "cell_type": "code",
   "execution_count": 4,
   "metadata": {},
   "outputs": [],
   "source": [
    "close_array = np.array(df['close'])"
   ]
  },
  {
   "cell_type": "code",
   "execution_count": 5,
   "metadata": {},
   "outputs": [],
   "source": [
    "label = []\n",
    "for i in range(0, len(close_array)):\n",
    "    length = len(close_array[i:])\n",
    "    if length > 21:\n",
    "        length = 21\n",
    "    if length == 21:\n",
    "        for j in range(0, length):\n",
    "            upper_bound = close_array[i] * 1.04\n",
    "            lower_bound = close_array[i] * 0.98\n",
    "            if close_array[i+j] >= upper_bound:\n",
    "                label.append(1)\n",
    "                break\n",
    "            elif close_array[i+j] <= lower_bound:\n",
    "                label.append(2)\n",
    "                break\n",
    "        if len(label) != i+1:\n",
    "            label.append(0)\n",
    "    else:\n",
    "        for j in range(0, length):\n",
    "            upper_bound = close_array[i] * 1.04\n",
    "            lower_bound = close_array[i] * 0.98\n",
    "            if close_array[i+j] >= upper_bound:\n",
    "                label.append(1)\n",
    "                break\n",
    "            elif close_array[i+j] <= lower_bound:\n",
    "                label.append(2)\n",
    "                break\n",
    "        if len(label) != i+1:\n",
    "            label.append(np.nan)"
   ]
  },
  {
   "cell_type": "code",
   "execution_count": 6,
   "metadata": {},
   "outputs": [
    {
     "data": {
      "text/html": [
       "<div>\n",
       "<style scoped>\n",
       "    .dataframe tbody tr th:only-of-type {\n",
       "        vertical-align: middle;\n",
       "    }\n",
       "\n",
       "    .dataframe tbody tr th {\n",
       "        vertical-align: top;\n",
       "    }\n",
       "\n",
       "    .dataframe thead th {\n",
       "        text-align: right;\n",
       "    }\n",
       "</style>\n",
       "<table border=\"1\" class=\"dataframe\">\n",
       "  <thead>\n",
       "    <tr style=\"text-align: right;\">\n",
       "      <th></th>\n",
       "      <th>date</th>\n",
       "      <th>volume</th>\n",
       "      <th>open</th>\n",
       "      <th>high</th>\n",
       "      <th>low</th>\n",
       "      <th>close</th>\n",
       "      <th>label</th>\n",
       "    </tr>\n",
       "  </thead>\n",
       "  <tbody>\n",
       "    <tr>\n",
       "      <th>0</th>\n",
       "      <td>2012-12-03</td>\n",
       "      <td>3696524900</td>\n",
       "      <td>7582.65</td>\n",
       "      <td>7628.29</td>\n",
       "      <td>7562.19</td>\n",
       "      <td>7599.91</td>\n",
       "      <td>0.0</td>\n",
       "    </tr>\n",
       "    <tr>\n",
       "      <th>1</th>\n",
       "      <td>2012-12-04</td>\n",
       "      <td>3947860691</td>\n",
       "      <td>7572.11</td>\n",
       "      <td>7600.98</td>\n",
       "      <td>7536.66</td>\n",
       "      <td>7600.98</td>\n",
       "      <td>0.0</td>\n",
       "    </tr>\n",
       "    <tr>\n",
       "      <th>2</th>\n",
       "      <td>2012-12-05</td>\n",
       "      <td>4858910844</td>\n",
       "      <td>7575.63</td>\n",
       "      <td>7650.12</td>\n",
       "      <td>7567.46</td>\n",
       "      <td>7649.05</td>\n",
       "      <td>0.0</td>\n",
       "    </tr>\n",
       "    <tr>\n",
       "      <th>3</th>\n",
       "      <td>2012-12-06</td>\n",
       "      <td>4399887242</td>\n",
       "      <td>7660.97</td>\n",
       "      <td>7673.62</td>\n",
       "      <td>7616.79</td>\n",
       "      <td>7623.26</td>\n",
       "      <td>0.0</td>\n",
       "    </tr>\n",
       "    <tr>\n",
       "      <th>4</th>\n",
       "      <td>2012-12-07</td>\n",
       "      <td>3888752378</td>\n",
       "      <td>7640.25</td>\n",
       "      <td>7672.92</td>\n",
       "      <td>7631.63</td>\n",
       "      <td>7642.26</td>\n",
       "      <td>0.0</td>\n",
       "    </tr>\n",
       "    <tr>\n",
       "      <th>...</th>\n",
       "      <td>...</td>\n",
       "      <td>...</td>\n",
       "      <td>...</td>\n",
       "      <td>...</td>\n",
       "      <td>...</td>\n",
       "      <td>...</td>\n",
       "      <td>...</td>\n",
       "    </tr>\n",
       "    <tr>\n",
       "      <th>1470</th>\n",
       "      <td>2018-11-26</td>\n",
       "      <td>3938988241</td>\n",
       "      <td>9679.98</td>\n",
       "      <td>9847.35</td>\n",
       "      <td>9679.98</td>\n",
       "      <td>9765.36</td>\n",
       "      <td>NaN</td>\n",
       "    </tr>\n",
       "    <tr>\n",
       "      <th>1471</th>\n",
       "      <td>2018-11-27</td>\n",
       "      <td>4333008909</td>\n",
       "      <td>9728.95</td>\n",
       "      <td>9781.40</td>\n",
       "      <td>9688.74</td>\n",
       "      <td>9778.62</td>\n",
       "      <td>NaN</td>\n",
       "    </tr>\n",
       "    <tr>\n",
       "      <th>1472</th>\n",
       "      <td>2018-11-28</td>\n",
       "      <td>5413428690</td>\n",
       "      <td>9774.03</td>\n",
       "      <td>9890.89</td>\n",
       "      <td>9767.14</td>\n",
       "      <td>9884.31</td>\n",
       "      <td>NaN</td>\n",
       "    </tr>\n",
       "    <tr>\n",
       "      <th>1473</th>\n",
       "      <td>2018-11-29</td>\n",
       "      <td>5863859324</td>\n",
       "      <td>9959.87</td>\n",
       "      <td>10001.85</td>\n",
       "      <td>9885.36</td>\n",
       "      <td>9885.36</td>\n",
       "      <td>NaN</td>\n",
       "    </tr>\n",
       "    <tr>\n",
       "      <th>1474</th>\n",
       "      <td>2018-11-30</td>\n",
       "      <td>6607048362</td>\n",
       "      <td>9899.24</td>\n",
       "      <td>9957.63</td>\n",
       "      <td>9888.03</td>\n",
       "      <td>9888.03</td>\n",
       "      <td>NaN</td>\n",
       "    </tr>\n",
       "  </tbody>\n",
       "</table>\n",
       "<p>1475 rows × 7 columns</p>\n",
       "</div>"
      ],
      "text/plain": [
       "            date      volume     open      high      low    close  label\n",
       "0     2012-12-03  3696524900  7582.65   7628.29  7562.19  7599.91    0.0\n",
       "1     2012-12-04  3947860691  7572.11   7600.98  7536.66  7600.98    0.0\n",
       "2     2012-12-05  4858910844  7575.63   7650.12  7567.46  7649.05    0.0\n",
       "3     2012-12-06  4399887242  7660.97   7673.62  7616.79  7623.26    0.0\n",
       "4     2012-12-07  3888752378  7640.25   7672.92  7631.63  7642.26    0.0\n",
       "...          ...         ...      ...       ...      ...      ...    ...\n",
       "1470  2018-11-26  3938988241  9679.98   9847.35  9679.98  9765.36    NaN\n",
       "1471  2018-11-27  4333008909  9728.95   9781.40  9688.74  9778.62    NaN\n",
       "1472  2018-11-28  5413428690  9774.03   9890.89  9767.14  9884.31    NaN\n",
       "1473  2018-11-29  5863859324  9959.87  10001.85  9885.36  9885.36    NaN\n",
       "1474  2018-11-30  6607048362  9899.24   9957.63  9888.03  9888.03    NaN\n",
       "\n",
       "[1475 rows x 7 columns]"
      ]
     },
     "execution_count": 6,
     "metadata": {},
     "output_type": "execute_result"
    }
   ],
   "source": [
    "df['label'] = label\n",
    "df"
   ]
  },
  {
   "cell_type": "code",
   "execution_count": 7,
   "metadata": {},
   "outputs": [],
   "source": [
    "df.to_csv('output/problem2.csv')"
   ]
  },
  {
   "cell_type": "markdown",
   "metadata": {},
   "source": [
    "# Problem 3"
   ]
  },
  {
   "cell_type": "code",
   "execution_count": 8,
   "metadata": {},
   "outputs": [],
   "source": [
    "df['MA-5'] = (df['close'] - talib.MA(df.close, timeperiod=5, matype=0)) / talib.MA(df.close, timeperiod=5, matype=0)\n",
    "df['MA-10'] = (df['close'] - talib.MA(df.close, timeperiod=10, matype=0)) / talib.MA(df.close, timeperiod=10, matype=0)\n",
    "df['MA-20'] = (df['close'] - talib.MA(df.close, timeperiod=20, matype=0)) / talib.MA(df.close, timeperiod=20, matype=0)\n",
    "df['MA-60'] = (df['close'] - talib.MA(df.close, timeperiod=60, matype=0)) / talib.MA(df.close, timeperiod=60, matype=0)\n",
    "df['RSI-14'] = talib.RSI(df.close, timeperiod=14)\n",
    "df['MACD'], df['MACD_signal'], df['MACD_hist'] = talib.MACD(df.close)\n",
    "df.dropna(inplace=True)"
   ]
  },
  {
   "cell_type": "code",
   "execution_count": 9,
   "metadata": {},
   "outputs": [],
   "source": [
    "df.to_csv('output/problem3.csv', index=False)"
   ]
  },
  {
   "cell_type": "markdown",
   "metadata": {},
   "source": [
    "# Problem 4"
   ]
  },
  {
   "cell_type": "code",
   "execution_count": 10,
   "metadata": {},
   "outputs": [],
   "source": [
    "df = pd.read_csv('output/problem3.csv')"
   ]
  },
  {
   "cell_type": "code",
   "execution_count": 11,
   "metadata": {},
   "outputs": [],
   "source": [
    "y = np.array(df['label'])"
   ]
  },
  {
   "cell_type": "code",
   "execution_count": 12,
   "metadata": {},
   "outputs": [
    {
     "data": {
      "text/html": [
       "<div>\n",
       "<style scoped>\n",
       "    .dataframe tbody tr th:only-of-type {\n",
       "        vertical-align: middle;\n",
       "    }\n",
       "\n",
       "    .dataframe tbody tr th {\n",
       "        vertical-align: top;\n",
       "    }\n",
       "\n",
       "    .dataframe thead th {\n",
       "        text-align: right;\n",
       "    }\n",
       "</style>\n",
       "<table border=\"1\" class=\"dataframe\">\n",
       "  <thead>\n",
       "    <tr style=\"text-align: right;\">\n",
       "      <th></th>\n",
       "      <th>volume</th>\n",
       "      <th>open</th>\n",
       "      <th>high</th>\n",
       "      <th>low</th>\n",
       "      <th>close</th>\n",
       "      <th>MA-5</th>\n",
       "      <th>MA-10</th>\n",
       "      <th>MA-20</th>\n",
       "      <th>MA-60</th>\n",
       "      <th>RSI-14</th>\n",
       "      <th>MACD</th>\n",
       "      <th>MACD_signal</th>\n",
       "      <th>MACD_hist</th>\n",
       "    </tr>\n",
       "  </thead>\n",
       "  <tbody>\n",
       "    <tr>\n",
       "      <th>0</th>\n",
       "      <td>3923678149</td>\n",
       "      <td>7958.11</td>\n",
       "      <td>7982.39</td>\n",
       "      <td>7936.86</td>\n",
       "      <td>7950.30</td>\n",
       "      <td>0.003497</td>\n",
       "      <td>0.002135</td>\n",
       "      <td>0.004302</td>\n",
       "      <td>0.024105</td>\n",
       "      <td>56.429268</td>\n",
       "      <td>43.544898</td>\n",
       "      <td>51.947231</td>\n",
       "      <td>-8.402333</td>\n",
       "    </tr>\n",
       "    <tr>\n",
       "      <th>1</th>\n",
       "      <td>3629314119</td>\n",
       "      <td>7950.90</td>\n",
       "      <td>7984.29</td>\n",
       "      <td>7942.37</td>\n",
       "      <td>7960.51</td>\n",
       "      <td>0.003202</td>\n",
       "      <td>0.003384</td>\n",
       "      <td>0.004586</td>\n",
       "      <td>0.024626</td>\n",
       "      <td>57.172977</td>\n",
       "      <td>43.431253</td>\n",
       "      <td>50.244035</td>\n",
       "      <td>-6.812782</td>\n",
       "    </tr>\n",
       "    <tr>\n",
       "      <th>2</th>\n",
       "      <td>4161212736</td>\n",
       "      <td>7981.00</td>\n",
       "      <td>8029.14</td>\n",
       "      <td>7981.00</td>\n",
       "      <td>8015.14</td>\n",
       "      <td>0.008803</td>\n",
       "      <td>0.009412</td>\n",
       "      <td>0.010319</td>\n",
       "      <td>0.030742</td>\n",
       "      <td>61.008046</td>\n",
       "      <td>47.205221</td>\n",
       "      <td>49.636272</td>\n",
       "      <td>-2.431051</td>\n",
       "    </tr>\n",
       "    <tr>\n",
       "      <th>3</th>\n",
       "      <td>4284798782</td>\n",
       "      <td>8021.88</td>\n",
       "      <td>8089.21</td>\n",
       "      <td>8001.85</td>\n",
       "      <td>8038.72</td>\n",
       "      <td>0.007425</td>\n",
       "      <td>0.011721</td>\n",
       "      <td>0.012088</td>\n",
       "      <td>0.032912</td>\n",
       "      <td>62.566221</td>\n",
       "      <td>51.505108</td>\n",
       "      <td>50.010039</td>\n",
       "      <td>1.495069</td>\n",
       "    </tr>\n",
       "    <tr>\n",
       "      <th>4</th>\n",
       "      <td>4200531442</td>\n",
       "      <td>8039.00</td>\n",
       "      <td>8063.23</td>\n",
       "      <td>7986.59</td>\n",
       "      <td>7994.71</td>\n",
       "      <td>0.000355</td>\n",
       "      <td>0.005587</td>\n",
       "      <td>0.005668</td>\n",
       "      <td>0.026441</td>\n",
       "      <td>57.914429</td>\n",
       "      <td>50.776243</td>\n",
       "      <td>50.163280</td>\n",
       "      <td>0.612963</td>\n",
       "    </tr>\n",
       "    <tr>\n",
       "      <th>...</th>\n",
       "      <td>...</td>\n",
       "      <td>...</td>\n",
       "      <td>...</td>\n",
       "      <td>...</td>\n",
       "      <td>...</td>\n",
       "      <td>...</td>\n",
       "      <td>...</td>\n",
       "      <td>...</td>\n",
       "      <td>...</td>\n",
       "      <td>...</td>\n",
       "      <td>...</td>\n",
       "      <td>...</td>\n",
       "      <td>...</td>\n",
       "    </tr>\n",
       "    <tr>\n",
       "      <th>1394</th>\n",
       "      <td>5494351265</td>\n",
       "      <td>9812.20</td>\n",
       "      <td>9869.59</td>\n",
       "      <td>9742.61</td>\n",
       "      <td>9844.74</td>\n",
       "      <td>0.021695</td>\n",
       "      <td>0.013590</td>\n",
       "      <td>-0.010346</td>\n",
       "      <td>-0.068980</td>\n",
       "      <td>40.839360</td>\n",
       "      <td>-269.501322</td>\n",
       "      <td>-280.062247</td>\n",
       "      <td>10.560924</td>\n",
       "    </tr>\n",
       "    <tr>\n",
       "      <th>1395</th>\n",
       "      <td>6166533874</td>\n",
       "      <td>9871.40</td>\n",
       "      <td>9906.59</td>\n",
       "      <td>9817.29</td>\n",
       "      <td>9906.59</td>\n",
       "      <td>0.019283</td>\n",
       "      <td>0.020091</td>\n",
       "      <td>-0.000046</td>\n",
       "      <td>-0.061402</td>\n",
       "      <td>43.525110</td>\n",
       "      <td>-240.833821</td>\n",
       "      <td>-272.216561</td>\n",
       "      <td>31.382741</td>\n",
       "    </tr>\n",
       "    <tr>\n",
       "      <th>1396</th>\n",
       "      <td>4881248460</td>\n",
       "      <td>9856.85</td>\n",
       "      <td>9889.81</td>\n",
       "      <td>9786.25</td>\n",
       "      <td>9889.81</td>\n",
       "      <td>0.009795</td>\n",
       "      <td>0.019250</td>\n",
       "      <td>0.001431</td>\n",
       "      <td>-0.061305</td>\n",
       "      <td>42.955357</td>\n",
       "      <td>-216.967558</td>\n",
       "      <td>-261.166761</td>\n",
       "      <td>44.199203</td>\n",
       "    </tr>\n",
       "    <tr>\n",
       "      <th>1397</th>\n",
       "      <td>4947603515</td>\n",
       "      <td>9818.15</td>\n",
       "      <td>9912.53</td>\n",
       "      <td>9817.95</td>\n",
       "      <td>9908.35</td>\n",
       "      <td>0.003389</td>\n",
       "      <td>0.019074</td>\n",
       "      <td>0.009387</td>\n",
       "      <td>-0.056561</td>\n",
       "      <td>44.693221</td>\n",
       "      <td>-179.493711</td>\n",
       "      <td>-235.200728</td>\n",
       "      <td>55.707018</td>\n",
       "    </tr>\n",
       "    <tr>\n",
       "      <th>1398</th>\n",
       "      <td>5069149565</td>\n",
       "      <td>9958.47</td>\n",
       "      <td>10014.42</td>\n",
       "      <td>9938.55</td>\n",
       "      <td>9945.31</td>\n",
       "      <td>0.005084</td>\n",
       "      <td>0.018429</td>\n",
       "      <td>0.012434</td>\n",
       "      <td>-0.051719</td>\n",
       "      <td>46.401414</td>\n",
       "      <td>-157.673379</td>\n",
       "      <td>-219.695259</td>\n",
       "      <td>62.021879</td>\n",
       "    </tr>\n",
       "  </tbody>\n",
       "</table>\n",
       "<p>1399 rows × 13 columns</p>\n",
       "</div>"
      ],
      "text/plain": [
       "          volume     open      high      low    close      MA-5     MA-10  \\\n",
       "0     3923678149  7958.11   7982.39  7936.86  7950.30  0.003497  0.002135   \n",
       "1     3629314119  7950.90   7984.29  7942.37  7960.51  0.003202  0.003384   \n",
       "2     4161212736  7981.00   8029.14  7981.00  8015.14  0.008803  0.009412   \n",
       "3     4284798782  8021.88   8089.21  8001.85  8038.72  0.007425  0.011721   \n",
       "4     4200531442  8039.00   8063.23  7986.59  7994.71  0.000355  0.005587   \n",
       "...          ...      ...       ...      ...      ...       ...       ...   \n",
       "1394  5494351265  9812.20   9869.59  9742.61  9844.74  0.021695  0.013590   \n",
       "1395  6166533874  9871.40   9906.59  9817.29  9906.59  0.019283  0.020091   \n",
       "1396  4881248460  9856.85   9889.81  9786.25  9889.81  0.009795  0.019250   \n",
       "1397  4947603515  9818.15   9912.53  9817.95  9908.35  0.003389  0.019074   \n",
       "1398  5069149565  9958.47  10014.42  9938.55  9945.31  0.005084  0.018429   \n",
       "\n",
       "         MA-20     MA-60     RSI-14        MACD  MACD_signal  MACD_hist  \n",
       "0     0.004302  0.024105  56.429268   43.544898    51.947231  -8.402333  \n",
       "1     0.004586  0.024626  57.172977   43.431253    50.244035  -6.812782  \n",
       "2     0.010319  0.030742  61.008046   47.205221    49.636272  -2.431051  \n",
       "3     0.012088  0.032912  62.566221   51.505108    50.010039   1.495069  \n",
       "4     0.005668  0.026441  57.914429   50.776243    50.163280   0.612963  \n",
       "...        ...       ...        ...         ...          ...        ...  \n",
       "1394 -0.010346 -0.068980  40.839360 -269.501322  -280.062247  10.560924  \n",
       "1395 -0.000046 -0.061402  43.525110 -240.833821  -272.216561  31.382741  \n",
       "1396  0.001431 -0.061305  42.955357 -216.967558  -261.166761  44.199203  \n",
       "1397  0.009387 -0.056561  44.693221 -179.493711  -235.200728  55.707018  \n",
       "1398  0.012434 -0.051719  46.401414 -157.673379  -219.695259  62.021879  \n",
       "\n",
       "[1399 rows x 13 columns]"
      ]
     },
     "execution_count": 12,
     "metadata": {},
     "output_type": "execute_result"
    }
   ],
   "source": [
    "df.drop(columns=['date', 'label'],inplace=True)\n",
    "df"
   ]
  },
  {
   "cell_type": "code",
   "execution_count": 13,
   "metadata": {},
   "outputs": [
    {
     "data": {
      "text/plain": [
       "PCA(n_components=2, random_state=0)"
      ]
     },
     "execution_count": 13,
     "metadata": {},
     "output_type": "execute_result"
    }
   ],
   "source": [
    "pca = PCA(n_components=2, random_state=0)\n",
    "pca.fit(df)"
   ]
  },
  {
   "cell_type": "code",
   "execution_count": 14,
   "metadata": {},
   "outputs": [
    {
     "name": "stdout",
     "output_type": "stream",
     "text": [
      "[1.00000000e+00 1.96666053e-12]\n",
      "[1. 1.]\n"
     ]
    }
   ],
   "source": [
    "print(pca.explained_variance_ratio_)\n",
    "print(pca.explained_variance_ratio_.cumsum())"
   ]
  },
  {
   "cell_type": "code",
   "execution_count": 15,
   "metadata": {},
   "outputs": [
    {
     "data": {
      "text/plain": [
       "[<matplotlib.lines.Line2D at 0x2830c4ec160>]"
      ]
     },
     "execution_count": 15,
     "metadata": {},
     "output_type": "execute_result"
    },
    {
     "data": {
      "text/plain": [
       "Text(0, 0.5, 'Explained Variance')"
      ]
     },
     "execution_count": 15,
     "metadata": {},
     "output_type": "execute_result"
    },
    {
     "data": {
      "text/plain": [
       "Text(0.5, 0, 'Principal Components')"
      ]
     },
     "execution_count": 15,
     "metadata": {},
     "output_type": "execute_result"
    },
    {
     "data": {
      "text/plain": [
       "([<matplotlib.axis.XTick at 0x2830c540e50>,\n",
       "  <matplotlib.axis.XTick at 0x2830c540e20>],\n",
       " [Text(0, 0, '1st comp'), Text(1, 0, '2nd comp')])"
      ]
     },
     "execution_count": 15,
     "metadata": {},
     "output_type": "execute_result"
    },
    {
     "data": {
      "text/plain": [
       "Text(0.5, 1.0, 'Explained Variance Ratio')"
      ]
     },
     "execution_count": 15,
     "metadata": {},
     "output_type": "execute_result"
    },
    {
     "data": {
      "image/png": "[encoded data removed]",
      "text/plain": [
       "<Figure size 432x288 with 1 Axes>"
      ]
     },
     "metadata": {
      "needs_background": "light"
     },
     "output_type": "display_data"
    }
   ],
   "source": [
    "plt.plot(range(0,2), [1.00000000e+00, 1.96666053e-12])\n",
    "plt.ylabel('Explained Variance')\n",
    "plt.xlabel('Principal Components')\n",
    "plt.xticks(range(0,2), [\"1st comp\", \"2nd comp\"], rotation=60)\n",
    "plt.title('Explained Variance Ratio')\n",
    "plt.show()"
   ]
  },
  {
   "cell_type": "code",
   "execution_count": 16,
   "metadata": {},
   "outputs": [
    {
     "data": {
      "text/plain": [
       "[<matplotlib.lines.Line2D at 0x2830c711b80>]"
      ]
     },
     "execution_count": 16,
     "metadata": {},
     "output_type": "execute_result"
    },
    {
     "data": {
      "text/plain": [
       "Text(0.5, 0, 'number of components')"
      ]
     },
     "execution_count": 16,
     "metadata": {},
     "output_type": "execute_result"
    },
    {
     "data": {
      "text/plain": [
       "Text(0, 0.5, 'cumulative explained variance')"
      ]
     },
     "execution_count": 16,
     "metadata": {},
     "output_type": "execute_result"
    },
    {
     "data": {
      "image/png": "[encoded data removed]",
      "text/plain": [
       "<Figure size 432x288 with 1 Axes>"
      ]
     },
     "metadata": {
      "needs_background": "light"
     },
     "output_type": "display_data"
    }
   ],
   "source": [
    "plt.plot(np.cumsum(pca.explained_variance_ratio_))\n",
    "plt.xlabel('number of components')\n",
    "plt.ylabel('cumulative explained variance')"
   ]
  },
  {
   "cell_type": "code",
   "execution_count": 17,
   "metadata": {},
   "outputs": [],
   "source": [
    "df_pca = pca.transform(df)"
   ]
  },
  {
   "cell_type": "code",
   "execution_count": 18,
   "metadata": {},
   "outputs": [
    {
     "name": "stdout",
     "output_type": "stream",
     "text": [
      "(1399, 13)\n",
      "(1399, 2)\n"
     ]
    }
   ],
   "source": [
    "print(df.shape)\n",
    "print(df_pca.shape)"
   ]
  },
  {
   "cell_type": "code",
   "execution_count": 19,
   "metadata": {},
   "outputs": [
    {
     "data": {
      "text/plain": [
       "Text(0.5, 0, 'component 1')"
      ]
     },
     "execution_count": 19,
     "metadata": {},
     "output_type": "execute_result"
    },
    {
     "data": {
      "text/plain": [
       "Text(0, 0.5, 'component 2')"
      ]
     },
     "execution_count": 19,
     "metadata": {},
     "output_type": "execute_result"
    },
    {
     "data": {
      "text/plain": [
       "<matplotlib.collections.PathCollection at 0x2830c78e550>"
      ]
     },
     "execution_count": 19,
     "metadata": {},
     "output_type": "execute_result"
    },
    {
     "data": {
      "image/png": "[encoded data removed]",
      "text/plain": [
       "<Figure size 432x288 with 1 Axes>"
      ]
     },
     "metadata": {
      "needs_background": "light"
     },
     "output_type": "display_data"
    }
   ],
   "source": [
    "index = 0\n",
    "color = []\n",
    "for i in df_pca:\n",
    "    if y[index] == 0:\n",
    "        color.append('red')\n",
    "    elif y[index] == 1:\n",
    "        color.append('green')\n",
    "    else:\n",
    "        color.append('blue')\n",
    "    index += 1\n",
    "colors = ['red', 'green', 'blue']\n",
    "plt.xlabel('component 1')\n",
    "plt.ylabel('component 2')\n",
    "plt.scatter(df_pca[:,0], df_pca[:,1], c=color, edgecolor='none')"
   ]
  },
  {
   "cell_type": "markdown",
   "metadata": {},
   "source": [
    "## Discuss pros and cons of PCA method in this dataset.\n",
    "\n",
    "* pros:\n",
    "1. 移除相關特徵\n",
    "2. 增加演算法的效能\n",
    "3. 減少 overfitting\n",
    "* cons:\n",
    "1. 我覺得降到二維有點太低了，視覺化出來的圖片會很難看"
   ]
  }
 ],
 "metadata": {
  "interpreter": {
   "hash": "52cafa93ffa67181f2722c2fd5bf563f72ba81d6999482649eb0d8d6a09768ee"
  },
  "kernelspec": {
   "display_name": "Python 3.9.6 64-bit ('pytorch': conda)",
   "language": "python",
   "name": "python3"
  },
  "language_info": {
   "codemirror_mode": {
    "name": "ipython",
    "version": 3
   },
   "file_extension": ".py",
   "mimetype": "text/x-python",
   "name": "python",
   "nbconvert_exporter": "python",
   "pygments_lexer": "ipython3",
   "version": "3.9.6"
  },
  "orig_nbformat": 4
 },
 "nbformat": 4,
 "nbformat_minor": 2
}
