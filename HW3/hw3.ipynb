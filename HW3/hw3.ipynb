{
 "cells": [
  {
   "cell_type": "code",
   "execution_count": 1,
   "metadata": {},
   "outputs": [],
   "source": [
    "import FinMind\n",
    "import pandas as pd \n",
    "import numpy as np\n",
    "import talib\n",
    "import math\n",
    "import matplotlib.pyplot as plt\n",
    "import matplotlib\n",
    "\n",
    "from FinMind.data import DataLoader\n",
    "from sklearn.ensemble import RandomForestRegressor, RandomForestClassifier\n",
    "from sklearn.model_selection import GridSearchCV\n",
    "from sklearn.metrics import roc_curve, auc, roc_auc_score\n",
    "from sklearn.preprocessing import label_binarize\n",
    "from itertools import cycle\n",
    "\n",
    "\n",
    "from IPython.core.interactiveshell import InteractiveShell\n",
    "InteractiveShell.ast_node_interactivity = \"all\""
   ]
  },
  {
   "cell_type": "markdown",
   "metadata": {},
   "source": [
    "# Problem 1"
   ]
  },
  {
   "cell_type": "markdown",
   "metadata": {},
   "source": [
    "## A"
   ]
  },
  {
   "cell_type": "code",
   "execution_count": 2,
   "metadata": {},
   "outputs": [
    {
     "data": {
      "text/html": [
       "<div>\n",
       "<style scoped>\n",
       "    .dataframe tbody tr th:only-of-type {\n",
       "        vertical-align: middle;\n",
       "    }\n",
       "\n",
       "    .dataframe tbody tr th {\n",
       "        vertical-align: top;\n",
       "    }\n",
       "\n",
       "    .dataframe thead th {\n",
       "        text-align: right;\n",
       "    }\n",
       "</style>\n",
       "<table border=\"1\" class=\"dataframe\">\n",
       "  <thead>\n",
       "    <tr style=\"text-align: right;\">\n",
       "      <th></th>\n",
       "      <th>date</th>\n",
       "      <th>volume</th>\n",
       "      <th>open</th>\n",
       "      <th>high</th>\n",
       "      <th>low</th>\n",
       "      <th>close</th>\n",
       "    </tr>\n",
       "  </thead>\n",
       "  <tbody>\n",
       "    <tr>\n",
       "      <th>0</th>\n",
       "      <td>2012-12-03</td>\n",
       "      <td>3696524900</td>\n",
       "      <td>7582.65</td>\n",
       "      <td>7628.29</td>\n",
       "      <td>7562.19</td>\n",
       "      <td>7599.91</td>\n",
       "    </tr>\n",
       "    <tr>\n",
       "      <th>1</th>\n",
       "      <td>2012-12-04</td>\n",
       "      <td>3947860691</td>\n",
       "      <td>7572.11</td>\n",
       "      <td>7600.98</td>\n",
       "      <td>7536.66</td>\n",
       "      <td>7600.98</td>\n",
       "    </tr>\n",
       "    <tr>\n",
       "      <th>2</th>\n",
       "      <td>2012-12-05</td>\n",
       "      <td>4858910844</td>\n",
       "      <td>7575.63</td>\n",
       "      <td>7650.12</td>\n",
       "      <td>7567.46</td>\n",
       "      <td>7649.05</td>\n",
       "    </tr>\n",
       "    <tr>\n",
       "      <th>3</th>\n",
       "      <td>2012-12-06</td>\n",
       "      <td>4399887242</td>\n",
       "      <td>7660.97</td>\n",
       "      <td>7673.62</td>\n",
       "      <td>7616.79</td>\n",
       "      <td>7623.26</td>\n",
       "    </tr>\n",
       "    <tr>\n",
       "      <th>4</th>\n",
       "      <td>2012-12-07</td>\n",
       "      <td>3888752378</td>\n",
       "      <td>7640.25</td>\n",
       "      <td>7672.92</td>\n",
       "      <td>7631.63</td>\n",
       "      <td>7642.26</td>\n",
       "    </tr>\n",
       "    <tr>\n",
       "      <th>...</th>\n",
       "      <td>...</td>\n",
       "      <td>...</td>\n",
       "      <td>...</td>\n",
       "      <td>...</td>\n",
       "      <td>...</td>\n",
       "      <td>...</td>\n",
       "    </tr>\n",
       "    <tr>\n",
       "      <th>2202</th>\n",
       "      <td>2021-11-26</td>\n",
       "      <td>8639089532</td>\n",
       "      <td>17641.79</td>\n",
       "      <td>17641.79</td>\n",
       "      <td>17330.44</td>\n",
       "      <td>17369.39</td>\n",
       "    </tr>\n",
       "    <tr>\n",
       "      <th>2203</th>\n",
       "      <td>2021-11-29</td>\n",
       "      <td>7721871866</td>\n",
       "      <td>17320.01</td>\n",
       "      <td>17415.63</td>\n",
       "      <td>17167.24</td>\n",
       "      <td>17328.09</td>\n",
       "    </tr>\n",
       "    <tr>\n",
       "      <th>2204</th>\n",
       "      <td>2021-11-30</td>\n",
       "      <td>9057571836</td>\n",
       "      <td>17369.79</td>\n",
       "      <td>17535.23</td>\n",
       "      <td>17369.79</td>\n",
       "      <td>17427.76</td>\n",
       "    </tr>\n",
       "    <tr>\n",
       "      <th>2205</th>\n",
       "      <td>2021-12-01</td>\n",
       "      <td>7020888193</td>\n",
       "      <td>17428.61</td>\n",
       "      <td>17626.21</td>\n",
       "      <td>17374.59</td>\n",
       "      <td>17585.99</td>\n",
       "    </tr>\n",
       "    <tr>\n",
       "      <th>2206</th>\n",
       "      <td>2021-12-02</td>\n",
       "      <td>8097881183</td>\n",
       "      <td>17575.91</td>\n",
       "      <td>17741.55</td>\n",
       "      <td>17559.44</td>\n",
       "      <td>17724.88</td>\n",
       "    </tr>\n",
       "  </tbody>\n",
       "</table>\n",
       "<p>2207 rows × 6 columns</p>\n",
       "</div>"
      ],
      "text/plain": [
       "            date      volume      open      high       low     close\n",
       "0     2012-12-03  3696524900   7582.65   7628.29   7562.19   7599.91\n",
       "1     2012-12-04  3947860691   7572.11   7600.98   7536.66   7600.98\n",
       "2     2012-12-05  4858910844   7575.63   7650.12   7567.46   7649.05\n",
       "3     2012-12-06  4399887242   7660.97   7673.62   7616.79   7623.26\n",
       "4     2012-12-07  3888752378   7640.25   7672.92   7631.63   7642.26\n",
       "...          ...         ...       ...       ...       ...       ...\n",
       "2202  2021-11-26  8639089532  17641.79  17641.79  17330.44  17369.39\n",
       "2203  2021-11-29  7721871866  17320.01  17415.63  17167.24  17328.09\n",
       "2204  2021-11-30  9057571836  17369.79  17535.23  17369.79  17427.76\n",
       "2205  2021-12-01  7020888193  17428.61  17626.21  17374.59  17585.99\n",
       "2206  2021-12-02  8097881183  17575.91  17741.55  17559.44  17724.88\n",
       "\n",
       "[2207 rows x 6 columns]"
      ]
     },
     "execution_count": 2,
     "metadata": {},
     "output_type": "execute_result"
    }
   ],
   "source": [
    "api = DataLoader()\n",
    "df = api.taiwan_stock_daily(\n",
    "    stock_id='TAIEX',\n",
    "    start_date='2012-12-01',\n",
    "    end_date='2021-12-02'\n",
    ")\n",
    "df.drop(columns=['stock_id', 'Trading_money', 'spread', 'Trading_turnover'],inplace=True)\n",
    "df.rename(columns={'Trading_Volume':'volume', 'max':'high', 'min':'low'},inplace=True)\n",
    "df"
   ]
  },
  {
   "cell_type": "code",
   "execution_count": 3,
   "metadata": {},
   "outputs": [],
   "source": [
    "df.to_csv('output/problem1A.csv')"
   ]
  },
  {
   "cell_type": "markdown",
   "metadata": {},
   "source": [
    "## B"
   ]
  },
  {
   "cell_type": "code",
   "execution_count": 4,
   "metadata": {},
   "outputs": [],
   "source": [
    "close_array = np.array(df['close'])"
   ]
  },
  {
   "cell_type": "code",
   "execution_count": 5,
   "metadata": {},
   "outputs": [],
   "source": [
    "label = []\n",
    "for i in range(0, len(close_array)):\n",
    "    length = len(close_array[i:])\n",
    "    if length > 21:\n",
    "        length = 21\n",
    "    if length == 21:\n",
    "        for j in range(0, length):\n",
    "            upper_bound = close_array[i] * 1.04\n",
    "            lower_bound = close_array[i] * 0.98\n",
    "            if close_array[i+j] >= upper_bound:\n",
    "                label.append(1)\n",
    "                break\n",
    "            elif close_array[i+j] <= lower_bound:\n",
    "                label.append(2)\n",
    "                break\n",
    "        if len(label) != i+1:\n",
    "            label.append(0)\n",
    "    else:\n",
    "        for j in range(0, length):\n",
    "            upper_bound = close_array[i] * 1.04\n",
    "            lower_bound = close_array[i] * 0.98\n",
    "            if close_array[i+j] >= upper_bound:\n",
    "                label.append(1)\n",
    "                break\n",
    "            elif close_array[i+j] <= lower_bound:\n",
    "                label.append(2)\n",
    "                break\n",
    "        if len(label) != i+1:\n",
    "            label.append(np.nan)"
   ]
  },
  {
   "cell_type": "code",
   "execution_count": 6,
   "metadata": {},
   "outputs": [
    {
     "data": {
      "text/html": [
       "<div>\n",
       "<style scoped>\n",
       "    .dataframe tbody tr th:only-of-type {\n",
       "        vertical-align: middle;\n",
       "    }\n",
       "\n",
       "    .dataframe tbody tr th {\n",
       "        vertical-align: top;\n",
       "    }\n",
       "\n",
       "    .dataframe thead th {\n",
       "        text-align: right;\n",
       "    }\n",
       "</style>\n",
       "<table border=\"1\" class=\"dataframe\">\n",
       "  <thead>\n",
       "    <tr style=\"text-align: right;\">\n",
       "      <th></th>\n",
       "      <th>date</th>\n",
       "      <th>volume</th>\n",
       "      <th>open</th>\n",
       "      <th>high</th>\n",
       "      <th>low</th>\n",
       "      <th>close</th>\n",
       "      <th>label</th>\n",
       "    </tr>\n",
       "  </thead>\n",
       "  <tbody>\n",
       "    <tr>\n",
       "      <th>0</th>\n",
       "      <td>2012-12-03</td>\n",
       "      <td>3696524900</td>\n",
       "      <td>7582.65</td>\n",
       "      <td>7628.29</td>\n",
       "      <td>7562.19</td>\n",
       "      <td>7599.91</td>\n",
       "      <td>0.0</td>\n",
       "    </tr>\n",
       "    <tr>\n",
       "      <th>1</th>\n",
       "      <td>2012-12-04</td>\n",
       "      <td>3947860691</td>\n",
       "      <td>7572.11</td>\n",
       "      <td>7600.98</td>\n",
       "      <td>7536.66</td>\n",
       "      <td>7600.98</td>\n",
       "      <td>0.0</td>\n",
       "    </tr>\n",
       "    <tr>\n",
       "      <th>2</th>\n",
       "      <td>2012-12-05</td>\n",
       "      <td>4858910844</td>\n",
       "      <td>7575.63</td>\n",
       "      <td>7650.12</td>\n",
       "      <td>7567.46</td>\n",
       "      <td>7649.05</td>\n",
       "      <td>0.0</td>\n",
       "    </tr>\n",
       "    <tr>\n",
       "      <th>3</th>\n",
       "      <td>2012-12-06</td>\n",
       "      <td>4399887242</td>\n",
       "      <td>7660.97</td>\n",
       "      <td>7673.62</td>\n",
       "      <td>7616.79</td>\n",
       "      <td>7623.26</td>\n",
       "      <td>0.0</td>\n",
       "    </tr>\n",
       "    <tr>\n",
       "      <th>4</th>\n",
       "      <td>2012-12-07</td>\n",
       "      <td>3888752378</td>\n",
       "      <td>7640.25</td>\n",
       "      <td>7672.92</td>\n",
       "      <td>7631.63</td>\n",
       "      <td>7642.26</td>\n",
       "      <td>0.0</td>\n",
       "    </tr>\n",
       "    <tr>\n",
       "      <th>...</th>\n",
       "      <td>...</td>\n",
       "      <td>...</td>\n",
       "      <td>...</td>\n",
       "      <td>...</td>\n",
       "      <td>...</td>\n",
       "      <td>...</td>\n",
       "      <td>...</td>\n",
       "    </tr>\n",
       "    <tr>\n",
       "      <th>2202</th>\n",
       "      <td>2021-11-26</td>\n",
       "      <td>8639089532</td>\n",
       "      <td>17641.79</td>\n",
       "      <td>17641.79</td>\n",
       "      <td>17330.44</td>\n",
       "      <td>17369.39</td>\n",
       "      <td>NaN</td>\n",
       "    </tr>\n",
       "    <tr>\n",
       "      <th>2203</th>\n",
       "      <td>2021-11-29</td>\n",
       "      <td>7721871866</td>\n",
       "      <td>17320.01</td>\n",
       "      <td>17415.63</td>\n",
       "      <td>17167.24</td>\n",
       "      <td>17328.09</td>\n",
       "      <td>NaN</td>\n",
       "    </tr>\n",
       "    <tr>\n",
       "      <th>2204</th>\n",
       "      <td>2021-11-30</td>\n",
       "      <td>9057571836</td>\n",
       "      <td>17369.79</td>\n",
       "      <td>17535.23</td>\n",
       "      <td>17369.79</td>\n",
       "      <td>17427.76</td>\n",
       "      <td>NaN</td>\n",
       "    </tr>\n",
       "    <tr>\n",
       "      <th>2205</th>\n",
       "      <td>2021-12-01</td>\n",
       "      <td>7020888193</td>\n",
       "      <td>17428.61</td>\n",
       "      <td>17626.21</td>\n",
       "      <td>17374.59</td>\n",
       "      <td>17585.99</td>\n",
       "      <td>NaN</td>\n",
       "    </tr>\n",
       "    <tr>\n",
       "      <th>2206</th>\n",
       "      <td>2021-12-02</td>\n",
       "      <td>8097881183</td>\n",
       "      <td>17575.91</td>\n",
       "      <td>17741.55</td>\n",
       "      <td>17559.44</td>\n",
       "      <td>17724.88</td>\n",
       "      <td>NaN</td>\n",
       "    </tr>\n",
       "  </tbody>\n",
       "</table>\n",
       "<p>2207 rows × 7 columns</p>\n",
       "</div>"
      ],
      "text/plain": [
       "            date      volume      open      high       low     close  label\n",
       "0     2012-12-03  3696524900   7582.65   7628.29   7562.19   7599.91    0.0\n",
       "1     2012-12-04  3947860691   7572.11   7600.98   7536.66   7600.98    0.0\n",
       "2     2012-12-05  4858910844   7575.63   7650.12   7567.46   7649.05    0.0\n",
       "3     2012-12-06  4399887242   7660.97   7673.62   7616.79   7623.26    0.0\n",
       "4     2012-12-07  3888752378   7640.25   7672.92   7631.63   7642.26    0.0\n",
       "...          ...         ...       ...       ...       ...       ...    ...\n",
       "2202  2021-11-26  8639089532  17641.79  17641.79  17330.44  17369.39    NaN\n",
       "2203  2021-11-29  7721871866  17320.01  17415.63  17167.24  17328.09    NaN\n",
       "2204  2021-11-30  9057571836  17369.79  17535.23  17369.79  17427.76    NaN\n",
       "2205  2021-12-01  7020888193  17428.61  17626.21  17374.59  17585.99    NaN\n",
       "2206  2021-12-02  8097881183  17575.91  17741.55  17559.44  17724.88    NaN\n",
       "\n",
       "[2207 rows x 7 columns]"
      ]
     },
     "execution_count": 6,
     "metadata": {},
     "output_type": "execute_result"
    }
   ],
   "source": [
    "df['label'] = label\n",
    "df"
   ]
  },
  {
   "cell_type": "code",
   "execution_count": 7,
   "metadata": {},
   "outputs": [],
   "source": [
    "df.to_csv('output/problem1B.csv')"
   ]
  },
  {
   "cell_type": "markdown",
   "metadata": {},
   "source": [
    "## C"
   ]
  },
  {
   "cell_type": "code",
   "execution_count": 8,
   "metadata": {},
   "outputs": [],
   "source": [
    "df['MA-5'] = (df['close'] - talib.MA(df.close, timeperiod=5, matype=0)) / talib.MA(df.close, timeperiod=5, matype=0)\n",
    "df['MA-10'] = (df['close'] - talib.MA(df.close, timeperiod=10, matype=0)) / talib.MA(df.close, timeperiod=10, matype=0)\n",
    "df['MA-20'] = (df['close'] - talib.MA(df.close, timeperiod=20, matype=0)) / talib.MA(df.close, timeperiod=20, matype=0)\n",
    "df['MA-60'] = (df['close'] - talib.MA(df.close, timeperiod=60, matype=0)) / talib.MA(df.close, timeperiod=60, matype=0)\n",
    "df['RSI-14'] = talib.RSI(df.close, timeperiod=14)\n",
    "df['MACD'], df['MACD_signal'], df['MACD_hist'] = talib.MACD(df.close)\n",
    "df.dropna(inplace=True)"
   ]
  },
  {
   "cell_type": "code",
   "execution_count": 9,
   "metadata": {},
   "outputs": [],
   "source": [
    "df.to_csv('output/problem1C.csv', index=False)"
   ]
  },
  {
   "cell_type": "markdown",
   "metadata": {},
   "source": [
    "# Problem 2"
   ]
  },
  {
   "cell_type": "markdown",
   "metadata": {},
   "source": [
    "## A"
   ]
  },
  {
   "cell_type": "code",
   "execution_count": 10,
   "metadata": {},
   "outputs": [],
   "source": [
    "df = pd.read_csv('output/problem1C.csv')"
   ]
  },
  {
   "cell_type": "code",
   "execution_count": 11,
   "metadata": {},
   "outputs": [],
   "source": [
    "train = df[:int(df.shape[0] * 0.7)]\n",
    "test = df[int(df.shape[0] * 0.7):]"
   ]
  },
  {
   "cell_type": "code",
   "execution_count": 12,
   "metadata": {},
   "outputs": [
    {
     "data": {
      "text/html": [
       "<div>\n",
       "<style scoped>\n",
       "    .dataframe tbody tr th:only-of-type {\n",
       "        vertical-align: middle;\n",
       "    }\n",
       "\n",
       "    .dataframe tbody tr th {\n",
       "        vertical-align: top;\n",
       "    }\n",
       "\n",
       "    .dataframe thead th {\n",
       "        text-align: right;\n",
       "    }\n",
       "</style>\n",
       "<table border=\"1\" class=\"dataframe\">\n",
       "  <thead>\n",
       "    <tr style=\"text-align: right;\">\n",
       "      <th></th>\n",
       "      <th>date</th>\n",
       "      <th>volume</th>\n",
       "      <th>open</th>\n",
       "      <th>high</th>\n",
       "      <th>low</th>\n",
       "      <th>close</th>\n",
       "      <th>label</th>\n",
       "      <th>MA-5</th>\n",
       "      <th>MA-10</th>\n",
       "      <th>MA-20</th>\n",
       "      <th>MA-60</th>\n",
       "      <th>RSI-14</th>\n",
       "      <th>MACD</th>\n",
       "      <th>MACD_signal</th>\n",
       "      <th>MACD_hist</th>\n",
       "    </tr>\n",
       "  </thead>\n",
       "  <tbody>\n",
       "    <tr>\n",
       "      <th>0</th>\n",
       "      <td>2013-03-06</td>\n",
       "      <td>3923678149</td>\n",
       "      <td>7958.11</td>\n",
       "      <td>7982.39</td>\n",
       "      <td>7936.86</td>\n",
       "      <td>7950.30</td>\n",
       "      <td>0.0</td>\n",
       "      <td>0.003497</td>\n",
       "      <td>0.002135</td>\n",
       "      <td>0.004302</td>\n",
       "      <td>0.024105</td>\n",
       "      <td>56.429268</td>\n",
       "      <td>43.544898</td>\n",
       "      <td>51.947231</td>\n",
       "      <td>-8.402333</td>\n",
       "    </tr>\n",
       "    <tr>\n",
       "      <th>1</th>\n",
       "      <td>2013-03-07</td>\n",
       "      <td>3629314119</td>\n",
       "      <td>7950.90</td>\n",
       "      <td>7984.29</td>\n",
       "      <td>7942.37</td>\n",
       "      <td>7960.51</td>\n",
       "      <td>2.0</td>\n",
       "      <td>0.003202</td>\n",
       "      <td>0.003384</td>\n",
       "      <td>0.004586</td>\n",
       "      <td>0.024626</td>\n",
       "      <td>57.172977</td>\n",
       "      <td>43.431253</td>\n",
       "      <td>50.244035</td>\n",
       "      <td>-6.812782</td>\n",
       "    </tr>\n",
       "    <tr>\n",
       "      <th>2</th>\n",
       "      <td>2013-03-08</td>\n",
       "      <td>4161212736</td>\n",
       "      <td>7981.00</td>\n",
       "      <td>8029.14</td>\n",
       "      <td>7981.00</td>\n",
       "      <td>8015.14</td>\n",
       "      <td>2.0</td>\n",
       "      <td>0.008803</td>\n",
       "      <td>0.009412</td>\n",
       "      <td>0.010319</td>\n",
       "      <td>0.030742</td>\n",
       "      <td>61.008046</td>\n",
       "      <td>47.205221</td>\n",
       "      <td>49.636272</td>\n",
       "      <td>-2.431051</td>\n",
       "    </tr>\n",
       "    <tr>\n",
       "      <th>3</th>\n",
       "      <td>2013-03-11</td>\n",
       "      <td>4284798782</td>\n",
       "      <td>8021.88</td>\n",
       "      <td>8089.21</td>\n",
       "      <td>8001.85</td>\n",
       "      <td>8038.72</td>\n",
       "      <td>2.0</td>\n",
       "      <td>0.007425</td>\n",
       "      <td>0.011721</td>\n",
       "      <td>0.012088</td>\n",
       "      <td>0.032912</td>\n",
       "      <td>62.566221</td>\n",
       "      <td>51.505108</td>\n",
       "      <td>50.010039</td>\n",
       "      <td>1.495069</td>\n",
       "    </tr>\n",
       "    <tr>\n",
       "      <th>4</th>\n",
       "      <td>2013-03-12</td>\n",
       "      <td>4200531442</td>\n",
       "      <td>8039.00</td>\n",
       "      <td>8063.23</td>\n",
       "      <td>7986.59</td>\n",
       "      <td>7994.71</td>\n",
       "      <td>2.0</td>\n",
       "      <td>0.000355</td>\n",
       "      <td>0.005587</td>\n",
       "      <td>0.005668</td>\n",
       "      <td>0.026441</td>\n",
       "      <td>57.914429</td>\n",
       "      <td>50.776243</td>\n",
       "      <td>50.163280</td>\n",
       "      <td>0.612963</td>\n",
       "    </tr>\n",
       "    <tr>\n",
       "      <th>...</th>\n",
       "      <td>...</td>\n",
       "      <td>...</td>\n",
       "      <td>...</td>\n",
       "      <td>...</td>\n",
       "      <td>...</td>\n",
       "      <td>...</td>\n",
       "      <td>...</td>\n",
       "      <td>...</td>\n",
       "      <td>...</td>\n",
       "      <td>...</td>\n",
       "      <td>...</td>\n",
       "      <td>...</td>\n",
       "      <td>...</td>\n",
       "      <td>...</td>\n",
       "      <td>...</td>\n",
       "    </tr>\n",
       "    <tr>\n",
       "      <th>1488</th>\n",
       "      <td>2019-03-27</td>\n",
       "      <td>4025702296</td>\n",
       "      <td>10542.68</td>\n",
       "      <td>10556.75</td>\n",
       "      <td>10515.86</td>\n",
       "      <td>10542.70</td>\n",
       "      <td>1.0</td>\n",
       "      <td>-0.002205</td>\n",
       "      <td>0.002210</td>\n",
       "      <td>0.011252</td>\n",
       "      <td>0.049845</td>\n",
       "      <td>62.857814</td>\n",
       "      <td>119.372083</td>\n",
       "      <td>121.920772</td>\n",
       "      <td>-2.548689</td>\n",
       "    </tr>\n",
       "    <tr>\n",
       "      <th>1489</th>\n",
       "      <td>2019-03-28</td>\n",
       "      <td>3801407450</td>\n",
       "      <td>10529.02</td>\n",
       "      <td>10536.26</td>\n",
       "      <td>10499.29</td>\n",
       "      <td>10536.26</td>\n",
       "      <td>1.0</td>\n",
       "      <td>-0.001429</td>\n",
       "      <td>-0.000185</td>\n",
       "      <td>0.009933</td>\n",
       "      <td>0.047706</td>\n",
       "      <td>62.276780</td>\n",
       "      <td>114.009544</td>\n",
       "      <td>120.338526</td>\n",
       "      <td>-6.328982</td>\n",
       "    </tr>\n",
       "    <tr>\n",
       "      <th>1490</th>\n",
       "      <td>2019-03-29</td>\n",
       "      <td>4735272511</td>\n",
       "      <td>10551.99</td>\n",
       "      <td>10641.04</td>\n",
       "      <td>10525.27</td>\n",
       "      <td>10641.04</td>\n",
       "      <td>0.0</td>\n",
       "      <td>0.008463</td>\n",
       "      <td>0.007828</td>\n",
       "      <td>0.018747</td>\n",
       "      <td>0.056436</td>\n",
       "      <td>67.534963</td>\n",
       "      <td>116.867389</td>\n",
       "      <td>119.644299</td>\n",
       "      <td>-2.776909</td>\n",
       "    </tr>\n",
       "    <tr>\n",
       "      <th>1491</th>\n",
       "      <td>2019-04-01</td>\n",
       "      <td>5543097993</td>\n",
       "      <td>10714.68</td>\n",
       "      <td>10735.07</td>\n",
       "      <td>10627.01</td>\n",
       "      <td>10642.63</td>\n",
       "      <td>0.0</td>\n",
       "      <td>0.005505</td>\n",
       "      <td>0.006740</td>\n",
       "      <td>0.017474</td>\n",
       "      <td>0.054855</td>\n",
       "      <td>67.608746</td>\n",
       "      <td>117.901457</td>\n",
       "      <td>119.295730</td>\n",
       "      <td>-1.394273</td>\n",
       "    </tr>\n",
       "    <tr>\n",
       "      <th>1492</th>\n",
       "      <td>2019-04-02</td>\n",
       "      <td>4649133267</td>\n",
       "      <td>10695.47</td>\n",
       "      <td>10728.38</td>\n",
       "      <td>10685.10</td>\n",
       "      <td>10690.30</td>\n",
       "      <td>0.0</td>\n",
       "      <td>0.007513</td>\n",
       "      <td>0.009549</td>\n",
       "      <td>0.020153</td>\n",
       "      <td>0.057744</td>\n",
       "      <td>69.823111</td>\n",
       "      <td>121.170753</td>\n",
       "      <td>119.670735</td>\n",
       "      <td>1.500018</td>\n",
       "    </tr>\n",
       "  </tbody>\n",
       "</table>\n",
       "<p>1493 rows × 15 columns</p>\n",
       "</div>"
      ],
      "text/plain": [
       "            date      volume      open      high       low     close  label  \\\n",
       "0     2013-03-06  3923678149   7958.11   7982.39   7936.86   7950.30    0.0   \n",
       "1     2013-03-07  3629314119   7950.90   7984.29   7942.37   7960.51    2.0   \n",
       "2     2013-03-08  4161212736   7981.00   8029.14   7981.00   8015.14    2.0   \n",
       "3     2013-03-11  4284798782   8021.88   8089.21   8001.85   8038.72    2.0   \n",
       "4     2013-03-12  4200531442   8039.00   8063.23   7986.59   7994.71    2.0   \n",
       "...          ...         ...       ...       ...       ...       ...    ...   \n",
       "1488  2019-03-27  4025702296  10542.68  10556.75  10515.86  10542.70    1.0   \n",
       "1489  2019-03-28  3801407450  10529.02  10536.26  10499.29  10536.26    1.0   \n",
       "1490  2019-03-29  4735272511  10551.99  10641.04  10525.27  10641.04    0.0   \n",
       "1491  2019-04-01  5543097993  10714.68  10735.07  10627.01  10642.63    0.0   \n",
       "1492  2019-04-02  4649133267  10695.47  10728.38  10685.10  10690.30    0.0   \n",
       "\n",
       "          MA-5     MA-10     MA-20     MA-60     RSI-14        MACD  \\\n",
       "0     0.003497  0.002135  0.004302  0.024105  56.429268   43.544898   \n",
       "1     0.003202  0.003384  0.004586  0.024626  57.172977   43.431253   \n",
       "2     0.008803  0.009412  0.010319  0.030742  61.008046   47.205221   \n",
       "3     0.007425  0.011721  0.012088  0.032912  62.566221   51.505108   \n",
       "4     0.000355  0.005587  0.005668  0.026441  57.914429   50.776243   \n",
       "...        ...       ...       ...       ...        ...         ...   \n",
       "1488 -0.002205  0.002210  0.011252  0.049845  62.857814  119.372083   \n",
       "1489 -0.001429 -0.000185  0.009933  0.047706  62.276780  114.009544   \n",
       "1490  0.008463  0.007828  0.018747  0.056436  67.534963  116.867389   \n",
       "1491  0.005505  0.006740  0.017474  0.054855  67.608746  117.901457   \n",
       "1492  0.007513  0.009549  0.020153  0.057744  69.823111  121.170753   \n",
       "\n",
       "      MACD_signal  MACD_hist  \n",
       "0       51.947231  -8.402333  \n",
       "1       50.244035  -6.812782  \n",
       "2       49.636272  -2.431051  \n",
       "3       50.010039   1.495069  \n",
       "4       50.163280   0.612963  \n",
       "...           ...        ...  \n",
       "1488   121.920772  -2.548689  \n",
       "1489   120.338526  -6.328982  \n",
       "1490   119.644299  -2.776909  \n",
       "1491   119.295730  -1.394273  \n",
       "1492   119.670735   1.500018  \n",
       "\n",
       "[1493 rows x 15 columns]"
      ]
     },
     "execution_count": 12,
     "metadata": {},
     "output_type": "execute_result"
    },
    {
     "data": {
      "text/html": [
       "<div>\n",
       "<style scoped>\n",
       "    .dataframe tbody tr th:only-of-type {\n",
       "        vertical-align: middle;\n",
       "    }\n",
       "\n",
       "    .dataframe tbody tr th {\n",
       "        vertical-align: top;\n",
       "    }\n",
       "\n",
       "    .dataframe thead th {\n",
       "        text-align: right;\n",
       "    }\n",
       "</style>\n",
       "<table border=\"1\" class=\"dataframe\">\n",
       "  <thead>\n",
       "    <tr style=\"text-align: right;\">\n",
       "      <th></th>\n",
       "      <th>date</th>\n",
       "      <th>volume</th>\n",
       "      <th>open</th>\n",
       "      <th>high</th>\n",
       "      <th>low</th>\n",
       "      <th>close</th>\n",
       "      <th>label</th>\n",
       "      <th>MA-5</th>\n",
       "      <th>MA-10</th>\n",
       "      <th>MA-20</th>\n",
       "      <th>MA-60</th>\n",
       "      <th>RSI-14</th>\n",
       "      <th>MACD</th>\n",
       "      <th>MACD_signal</th>\n",
       "      <th>MACD_hist</th>\n",
       "    </tr>\n",
       "  </thead>\n",
       "  <tbody>\n",
       "    <tr>\n",
       "      <th>1493</th>\n",
       "      <td>2019-04-03</td>\n",
       "      <td>4099474088</td>\n",
       "      <td>10725.17</td>\n",
       "      <td>10741.56</td>\n",
       "      <td>10690.23</td>\n",
       "      <td>10704.38</td>\n",
       "      <td>0.0</td>\n",
       "      <td>0.005775</td>\n",
       "      <td>0.009422</td>\n",
       "      <td>0.019807</td>\n",
       "      <td>0.057085</td>\n",
       "      <td>70.465349</td>\n",
       "      <td>123.474495</td>\n",
       "      <td>120.431487</td>\n",
       "      <td>3.043008</td>\n",
       "    </tr>\n",
       "    <tr>\n",
       "      <th>1494</th>\n",
       "      <td>2019-04-08</td>\n",
       "      <td>5397269130</td>\n",
       "      <td>10759.96</td>\n",
       "      <td>10807.05</td>\n",
       "      <td>10759.96</td>\n",
       "      <td>10800.57</td>\n",
       "      <td>0.0</td>\n",
       "      <td>0.009797</td>\n",
       "      <td>0.016662</td>\n",
       "      <td>0.026581</td>\n",
       "      <td>0.064269</td>\n",
       "      <td>74.463781</td>\n",
       "      <td>131.545581</td>\n",
       "      <td>122.654306</td>\n",
       "      <td>8.891275</td>\n",
       "    </tr>\n",
       "    <tr>\n",
       "      <th>1495</th>\n",
       "      <td>2019-04-09</td>\n",
       "      <td>5083146536</td>\n",
       "      <td>10805.39</td>\n",
       "      <td>10851.60</td>\n",
       "      <td>10793.77</td>\n",
       "      <td>10851.60</td>\n",
       "      <td>0.0</td>\n",
       "      <td>0.010589</td>\n",
       "      <td>0.019426</td>\n",
       "      <td>0.028450</td>\n",
       "      <td>0.067177</td>\n",
       "      <td>76.297106</td>\n",
       "      <td>140.440755</td>\n",
       "      <td>126.211596</td>\n",
       "      <td>14.229159</td>\n",
       "    </tr>\n",
       "    <tr>\n",
       "      <th>1496</th>\n",
       "      <td>2019-04-10</td>\n",
       "      <td>4653211646</td>\n",
       "      <td>10839.93</td>\n",
       "      <td>10875.65</td>\n",
       "      <td>10815.61</td>\n",
       "      <td>10868.14</td>\n",
       "      <td>0.0</td>\n",
       "      <td>0.007896</td>\n",
       "      <td>0.017265</td>\n",
       "      <td>0.027011</td>\n",
       "      <td>0.066809</td>\n",
       "      <td>76.876575</td>\n",
       "      <td>147.128875</td>\n",
       "      <td>130.395052</td>\n",
       "      <td>16.733823</td>\n",
       "    </tr>\n",
       "    <tr>\n",
       "      <th>1497</th>\n",
       "      <td>2019-04-11</td>\n",
       "      <td>5053919906</td>\n",
       "      <td>10869.24</td>\n",
       "      <td>10887.12</td>\n",
       "      <td>10797.76</td>\n",
       "      <td>10808.77</td>\n",
       "      <td>0.0</td>\n",
       "      <td>0.000192</td>\n",
       "      <td>0.009350</td>\n",
       "      <td>0.019159</td>\n",
       "      <td>0.058808</td>\n",
       "      <td>70.238811</td>\n",
       "      <td>145.956104</td>\n",
       "      <td>133.507262</td>\n",
       "      <td>12.448842</td>\n",
       "    </tr>\n",
       "    <tr>\n",
       "      <th>...</th>\n",
       "      <td>...</td>\n",
       "      <td>...</td>\n",
       "      <td>...</td>\n",
       "      <td>...</td>\n",
       "      <td>...</td>\n",
       "      <td>...</td>\n",
       "      <td>...</td>\n",
       "      <td>...</td>\n",
       "      <td>...</td>\n",
       "      <td>...</td>\n",
       "      <td>...</td>\n",
       "      <td>...</td>\n",
       "      <td>...</td>\n",
       "      <td>...</td>\n",
       "      <td>...</td>\n",
       "    </tr>\n",
       "    <tr>\n",
       "      <th>2128</th>\n",
       "      <td>2021-11-16</td>\n",
       "      <td>8855573631</td>\n",
       "      <td>17639.96</td>\n",
       "      <td>17708.10</td>\n",
       "      <td>17629.80</td>\n",
       "      <td>17693.13</td>\n",
       "      <td>2.0</td>\n",
       "      <td>0.006917</td>\n",
       "      <td>0.015024</td>\n",
       "      <td>0.028237</td>\n",
       "      <td>0.036045</td>\n",
       "      <td>70.202960</td>\n",
       "      <td>189.168001</td>\n",
       "      <td>129.477847</td>\n",
       "      <td>59.690154</td>\n",
       "    </tr>\n",
       "    <tr>\n",
       "      <th>2129</th>\n",
       "      <td>2021-11-17</td>\n",
       "      <td>9046216805</td>\n",
       "      <td>17705.29</td>\n",
       "      <td>17764.04</td>\n",
       "      <td>17669.58</td>\n",
       "      <td>17764.04</td>\n",
       "      <td>2.0</td>\n",
       "      <td>0.008607</td>\n",
       "      <td>0.015353</td>\n",
       "      <td>0.029736</td>\n",
       "      <td>0.038755</td>\n",
       "      <td>71.865814</td>\n",
       "      <td>203.814901</td>\n",
       "      <td>144.345258</td>\n",
       "      <td>59.469643</td>\n",
       "    </tr>\n",
       "    <tr>\n",
       "      <th>2130</th>\n",
       "      <td>2021-11-18</td>\n",
       "      <td>9921581700</td>\n",
       "      <td>17767.06</td>\n",
       "      <td>17841.37</td>\n",
       "      <td>17748.21</td>\n",
       "      <td>17841.37</td>\n",
       "      <td>2.0</td>\n",
       "      <td>0.008544</td>\n",
       "      <td>0.015348</td>\n",
       "      <td>0.031374</td>\n",
       "      <td>0.042160</td>\n",
       "      <td>73.596310</td>\n",
       "      <td>219.136490</td>\n",
       "      <td>159.303504</td>\n",
       "      <td>59.832986</td>\n",
       "    </tr>\n",
       "    <tr>\n",
       "      <th>2131</th>\n",
       "      <td>2021-11-19</td>\n",
       "      <td>9158530889</td>\n",
       "      <td>17864.19</td>\n",
       "      <td>17986.18</td>\n",
       "      <td>17786.05</td>\n",
       "      <td>17818.31</td>\n",
       "      <td>2.0</td>\n",
       "      <td>0.003834</td>\n",
       "      <td>0.011035</td>\n",
       "      <td>0.027280</td>\n",
       "      <td>0.039801</td>\n",
       "      <td>72.170724</td>\n",
       "      <td>226.803758</td>\n",
       "      <td>172.803555</td>\n",
       "      <td>54.000203</td>\n",
       "    </tr>\n",
       "    <tr>\n",
       "      <th>2132</th>\n",
       "      <td>2021-11-22</td>\n",
       "      <td>7432543242</td>\n",
       "      <td>17828.53</td>\n",
       "      <td>17857.73</td>\n",
       "      <td>17790.64</td>\n",
       "      <td>17803.54</td>\n",
       "      <td>2.0</td>\n",
       "      <td>0.001094</td>\n",
       "      <td>0.007977</td>\n",
       "      <td>0.023745</td>\n",
       "      <td>0.038175</td>\n",
       "      <td>71.219156</td>\n",
       "      <td>229.047985</td>\n",
       "      <td>184.052441</td>\n",
       "      <td>44.995544</td>\n",
       "    </tr>\n",
       "  </tbody>\n",
       "</table>\n",
       "<p>640 rows × 15 columns</p>\n",
       "</div>"
      ],
      "text/plain": [
       "            date      volume      open      high       low     close  label  \\\n",
       "1493  2019-04-03  4099474088  10725.17  10741.56  10690.23  10704.38    0.0   \n",
       "1494  2019-04-08  5397269130  10759.96  10807.05  10759.96  10800.57    0.0   \n",
       "1495  2019-04-09  5083146536  10805.39  10851.60  10793.77  10851.60    0.0   \n",
       "1496  2019-04-10  4653211646  10839.93  10875.65  10815.61  10868.14    0.0   \n",
       "1497  2019-04-11  5053919906  10869.24  10887.12  10797.76  10808.77    0.0   \n",
       "...          ...         ...       ...       ...       ...       ...    ...   \n",
       "2128  2021-11-16  8855573631  17639.96  17708.10  17629.80  17693.13    2.0   \n",
       "2129  2021-11-17  9046216805  17705.29  17764.04  17669.58  17764.04    2.0   \n",
       "2130  2021-11-18  9921581700  17767.06  17841.37  17748.21  17841.37    2.0   \n",
       "2131  2021-11-19  9158530889  17864.19  17986.18  17786.05  17818.31    2.0   \n",
       "2132  2021-11-22  7432543242  17828.53  17857.73  17790.64  17803.54    2.0   \n",
       "\n",
       "          MA-5     MA-10     MA-20     MA-60     RSI-14        MACD  \\\n",
       "1493  0.005775  0.009422  0.019807  0.057085  70.465349  123.474495   \n",
       "1494  0.009797  0.016662  0.026581  0.064269  74.463781  131.545581   \n",
       "1495  0.010589  0.019426  0.028450  0.067177  76.297106  140.440755   \n",
       "1496  0.007896  0.017265  0.027011  0.066809  76.876575  147.128875   \n",
       "1497  0.000192  0.009350  0.019159  0.058808  70.238811  145.956104   \n",
       "...        ...       ...       ...       ...        ...         ...   \n",
       "2128  0.006917  0.015024  0.028237  0.036045  70.202960  189.168001   \n",
       "2129  0.008607  0.015353  0.029736  0.038755  71.865814  203.814901   \n",
       "2130  0.008544  0.015348  0.031374  0.042160  73.596310  219.136490   \n",
       "2131  0.003834  0.011035  0.027280  0.039801  72.170724  226.803758   \n",
       "2132  0.001094  0.007977  0.023745  0.038175  71.219156  229.047985   \n",
       "\n",
       "      MACD_signal  MACD_hist  \n",
       "1493   120.431487   3.043008  \n",
       "1494   122.654306   8.891275  \n",
       "1495   126.211596  14.229159  \n",
       "1496   130.395052  16.733823  \n",
       "1497   133.507262  12.448842  \n",
       "...           ...        ...  \n",
       "2128   129.477847  59.690154  \n",
       "2129   144.345258  59.469643  \n",
       "2130   159.303504  59.832986  \n",
       "2131   172.803555  54.000203  \n",
       "2132   184.052441  44.995544  \n",
       "\n",
       "[640 rows x 15 columns]"
      ]
     },
     "execution_count": 12,
     "metadata": {},
     "output_type": "execute_result"
    }
   ],
   "source": [
    "train\n",
    "test"
   ]
  },
  {
   "cell_type": "markdown",
   "metadata": {},
   "source": [
    "## B"
   ]
  },
  {
   "cell_type": "code",
   "execution_count": 13,
   "metadata": {},
   "outputs": [],
   "source": [
    "param_dict = {\n",
    "    'bootstrap': [True],\n",
    "    'max_depth': [80, 90, 100, 110],\n",
    "    'max_features': [2, 3],\n",
    "    'min_samples_leaf': [3, 4, 5],\n",
    "    'min_samples_split': [8, 10, 12],\n",
    "    'n_estimators': [100, 200, 300, 1000]\n",
    "}"
   ]
  },
  {
   "cell_type": "markdown",
   "metadata": {},
   "source": [
    "## C"
   ]
  },
  {
   "cell_type": "code",
   "execution_count": 14,
   "metadata": {},
   "outputs": [
    {
     "data": {
      "text/plain": [
       "label\n",
       "0.0    592\n",
       "1.0    271\n",
       "2.0    630\n",
       "Name: volume, dtype: int64"
      ]
     },
     "execution_count": 14,
     "metadata": {},
     "output_type": "execute_result"
    },
    {
     "data": {
      "text/plain": [
       "<AxesSubplot:xlabel='label'>"
      ]
     },
     "execution_count": 14,
     "metadata": {},
     "output_type": "execute_result"
    },
    {
     "data": {
      "image/png": "[encoded data removed]",
      "text/plain": [
       "<Figure size 432x288 with 1 Axes>"
      ]
     },
     "metadata": {
      "needs_background": "light"
     },
     "output_type": "display_data"
    }
   ],
   "source": [
    "train.groupby('label').count()['volume']\n",
    "train.groupby('label').count()['volume'].plot(kind='bar')"
   ]
  },
  {
   "cell_type": "code",
   "execution_count": 15,
   "metadata": {},
   "outputs": [
    {
     "data": {
      "text/plain": [
       "label\n",
       "0.0    129\n",
       "1.0    253\n",
       "2.0    258\n",
       "Name: volume, dtype: int64"
      ]
     },
     "execution_count": 15,
     "metadata": {},
     "output_type": "execute_result"
    },
    {
     "data": {
      "text/plain": [
       "<AxesSubplot:xlabel='label'>"
      ]
     },
     "execution_count": 15,
     "metadata": {},
     "output_type": "execute_result"
    },
    {
     "data": {
      "image/png": "[encoded data removed]",
      "text/plain": [
       "<Figure size 432x288 with 1 Axes>"
      ]
     },
     "metadata": {
      "needs_background": "light"
     },
     "output_type": "display_data"
    }
   ],
   "source": [
    "test.groupby('label').count()['volume']\n",
    "test.groupby('label').count()['volume'].plot(kind='bar')"
   ]
  },
  {
   "cell_type": "markdown",
   "metadata": {},
   "source": [
    "## D"
   ]
  },
  {
   "cell_type": "code",
   "execution_count": 16,
   "metadata": {},
   "outputs": [
    {
     "name": "stderr",
     "output_type": "stream",
     "text": [
      "C:\\Users\\CGVMISLAB\\anaconda3\\envs\\pytorch\\lib\\site-packages\\pandas\\core\\frame.py:4906: SettingWithCopyWarning: \n",
      "A value is trying to be set on a copy of a slice from a DataFrame\n",
      "\n",
      "See the caveats in the documentation: https://pandas.pydata.org/pandas-docs/stable/user_guide/indexing.html#returning-a-view-versus-a-copy\n",
      "  return super().drop(\n"
     ]
    }
   ],
   "source": [
    "train.drop(columns=['date'], inplace=True)\n",
    "test.drop(columns=['date'], inplace=True)"
   ]
  },
  {
   "cell_type": "code",
   "execution_count": 17,
   "metadata": {},
   "outputs": [],
   "source": [
    "X_train = train.drop(columns=['label'])\n",
    "y_train = train['label']\n",
    "X_test = test.drop(columns=['label'])\n",
    "y_test = test['label']"
   ]
  },
  {
   "cell_type": "code",
   "execution_count": 18,
   "metadata": {},
   "outputs": [
    {
     "name": "stdout",
     "output_type": "stream",
     "text": [
      "Fitting 3 folds for each of 288 candidates, totalling 864 fits\n"
     ]
    },
    {
     "data": {
      "text/plain": [
       "GridSearchCV(cv=3, estimator=RandomForestClassifier(), n_jobs=4,\n",
       "             param_grid={'bootstrap': [True], 'max_depth': [80, 90, 100, 110],\n",
       "                         'max_features': [2, 3], 'min_samples_leaf': [3, 4, 5],\n",
       "                         'min_samples_split': [8, 10, 12],\n",
       "                         'n_estimators': [100, 200, 300, 1000]},\n",
       "             return_train_score=True, verbose=3)"
      ]
     },
     "execution_count": 18,
     "metadata": {},
     "output_type": "execute_result"
    }
   ],
   "source": [
    "model = GridSearchCV(RandomForestClassifier(), param_grid=param_dict, cv=3, return_train_score=True, n_jobs=4, verbose=3)\n",
    "model.fit(X_train, y_train)"
   ]
  },
  {
   "cell_type": "markdown",
   "metadata": {},
   "source": [
    "## E"
   ]
  },
  {
   "cell_type": "code",
   "execution_count": 19,
   "metadata": {},
   "outputs": [
    {
     "data": {
      "text/plain": [
       "0.9678509683625625"
      ]
     },
     "execution_count": 19,
     "metadata": {},
     "output_type": "execute_result"
    }
   ],
   "source": [
    "model.cv_results_['mean_train_score'].max()"
   ]
  },
  {
   "cell_type": "code",
   "execution_count": 20,
   "metadata": {},
   "outputs": [
    {
     "data": {
      "text/plain": [
       "{'bootstrap': True,\n",
       " 'max_depth': 100,\n",
       " 'max_features': 3,\n",
       " 'min_samples_leaf': 5,\n",
       " 'min_samples_split': 8,\n",
       " 'n_estimators': 200}"
      ]
     },
     "execution_count": 20,
     "metadata": {},
     "output_type": "execute_result"
    }
   ],
   "source": [
    "model.best_params_"
   ]
  },
  {
   "cell_type": "code",
   "execution_count": 21,
   "metadata": {},
   "outputs": [
    {
     "data": {
      "text/plain": [
       "0.4546875"
      ]
     },
     "execution_count": 21,
     "metadata": {},
     "output_type": "execute_result"
    }
   ],
   "source": [
    "best_test_score = model.best_estimator_.score(X_test, y_test)\n",
    "best_test_score"
   ]
  },
  {
   "cell_type": "markdown",
   "metadata": {},
   "source": [
    "## F"
   ]
  },
  {
   "cell_type": "code",
   "execution_count": 22,
   "metadata": {},
   "outputs": [],
   "source": [
    "y_score = model.predict_proba(X_test)\n",
    "y_test = label_binarize(y_test, classes=[0, 1, 2])"
   ]
  },
  {
   "cell_type": "code",
   "execution_count": 23,
   "metadata": {},
   "outputs": [],
   "source": [
    "fpr = dict()\n",
    "tpr = dict()\n",
    "roc_auc = dict()\n",
    "for i in range(3):\n",
    "    fpr[i], tpr[i], _ = roc_curve(y_test[:, i], y_score[:, i])\n",
    "    roc_auc[i] = auc(fpr[i], tpr[i])"
   ]
  },
  {
   "cell_type": "code",
   "execution_count": 24,
   "metadata": {},
   "outputs": [
    {
     "data": {
      "text/plain": [
       "[<matplotlib.lines.Line2D at 0x19aab22afa0>]"
      ]
     },
     "execution_count": 24,
     "metadata": {},
     "output_type": "execute_result"
    },
    {
     "data": {
      "text/plain": [
       "[<matplotlib.lines.Line2D at 0x19aab2393a0>]"
      ]
     },
     "execution_count": 24,
     "metadata": {},
     "output_type": "execute_result"
    },
    {
     "data": {
      "text/plain": [
       "[<matplotlib.lines.Line2D at 0x19aab239640>]"
      ]
     },
     "execution_count": 24,
     "metadata": {},
     "output_type": "execute_result"
    },
    {
     "data": {
      "text/plain": [
       "[<matplotlib.lines.Line2D at 0x19aab2398b0>]"
      ]
     },
     "execution_count": 24,
     "metadata": {},
     "output_type": "execute_result"
    },
    {
     "data": {
      "text/plain": [
       "(-0.05, 1.0)"
      ]
     },
     "execution_count": 24,
     "metadata": {},
     "output_type": "execute_result"
    },
    {
     "data": {
      "text/plain": [
       "(0.0, 1.05)"
      ]
     },
     "execution_count": 24,
     "metadata": {},
     "output_type": "execute_result"
    },
    {
     "data": {
      "text/plain": [
       "Text(0.5, 0, 'False Positive Rate')"
      ]
     },
     "execution_count": 24,
     "metadata": {},
     "output_type": "execute_result"
    },
    {
     "data": {
      "text/plain": [
       "Text(0, 0.5, 'True Positive Rate')"
      ]
     },
     "execution_count": 24,
     "metadata": {},
     "output_type": "execute_result"
    },
    {
     "data": {
      "text/plain": [
       "Text(0.5, 1.0, 'Receiver operating characteristic for multi-class data')"
      ]
     },
     "execution_count": 24,
     "metadata": {},
     "output_type": "execute_result"
    },
    {
     "data": {
      "text/plain": [
       "<matplotlib.legend.Legend at 0x19aab2397c0>"
      ]
     },
     "execution_count": 24,
     "metadata": {},
     "output_type": "execute_result"
    },
    {
     "data": {
      "image/png": "[encoded data removed]",
      "text/plain": [
       "<Figure size 432x288 with 1 Axes>"
      ]
     },
     "metadata": {
      "needs_background": "light"
     },
     "output_type": "display_data"
    }
   ],
   "source": [
    "colors = ['blue', 'red', 'green']\n",
    "for i, color in zip(range(3), colors):\n",
    "    plt.plot(fpr[i], tpr[i], color=color, lw=2,\n",
    "             label='ROC curve of class {0} (area = {1:0.2f})'\n",
    "             ''.format(i, roc_auc[i]))\n",
    "plt.plot([0, 1], [0, 1], 'k--', lw=2)\n",
    "plt.xlim([-0.05, 1.0])\n",
    "plt.ylim([0.0, 1.05])\n",
    "plt.xlabel('False Positive Rate')\n",
    "plt.ylabel('True Positive Rate')\n",
    "plt.title('Receiver operating characteristic for multi-class data')\n",
    "plt.legend(loc=\"lower right\")\n",
    "plt.show()"
   ]
  }
 ],
 "metadata": {
  "interpreter": {
   "hash": "52cafa93ffa67181f2722c2fd5bf563f72ba81d6999482649eb0d8d6a09768ee"
  },
  "kernelspec": {
   "display_name": "Python 3.9.6 64-bit ('pytorch': conda)",
   "language": "python",
   "name": "python3"
  },
  "language_info": {
   "codemirror_mode": {
    "name": "ipython",
    "version": 3
   },
   "file_extension": ".py",
   "mimetype": "text/x-python",
   "name": "python",
   "nbconvert_exporter": "python",
   "pygments_lexer": "ipython3",
   "version": "3.9.6"
  },
  "orig_nbformat": 4
 },
 "nbformat": 4,
 "nbformat_minor": 2
}
